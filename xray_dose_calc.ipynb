{
  "nbformat": 4,
  "nbformat_minor": 0,
  "metadata": {
    "colab": {
      "name": "xray_dose_calc.ipynb",
      "provenance": [],
      "authorship_tag": "ABX9TyP+gYpX+IrfZUZihJpNIuJc",
      "include_colab_link": true
    },
    "kernelspec": {
      "name": "python3",
      "display_name": "Python 3"
    },
    "language_info": {
      "name": "python"
    }
  },
  "cells": [
    {
      "cell_type": "markdown",
      "metadata": {
        "id": "view-in-github",
        "colab_type": "text"
      },
      "source": [
        "<a href=\"https://colab.research.google.com/github/mbolding/xray/blob/main/xray_dose_calc.ipynb\" target=\"_parent\"><img src=\"https://colab.research.google.com/assets/colab-badge.svg\" alt=\"Open In Colab\"/></a>"
      ]
    },
    {
      "cell_type": "markdown",
      "source": [
        " The tube output of the x-ray unit can be calculated from the following equation:"
      ],
      "metadata": {
        "id": "MhQAzHHSddfd"
      }
    },
    {
      "cell_type": "markdown",
      "source": [
        "$X=\\frac{C\\left(V\\right)\\ I}{d^2}$\n"
      ],
      "metadata": {
        "id": "VGXldDtfgFOp"
      }
    },
    {
      "cell_type": "markdown",
      "source": [
        "where X is the exposure rate in Roentgens/minute, I is the tube current in microamps, d is the distance from the x-ray focal spot, and C has units of R*cm2/µA/min, and is a function of tube voltage V presented in the following table and chart."
      ],
      "metadata": {
        "id": "_eoILpY0gWaH"
      }
    },
    {
      "cell_type": "markdown",
      "source": [
        "| kV | C (R*cm2/µA/min) |\n",
        "|:--|:--|\n",
        "| 20 | 0.1308 |\n",
        "| 30 | 0.1969 |\n",
        "| 40 | 0.2147 |\n",
        "| 50 | 0.2128 |\n",
        "\n"
      ],
      "metadata": {
        "id": "hXvvLaWwfPc8"
      }
    },
    {
      "cell_type": "code",
      "execution_count": null,
      "metadata": {
        "id": "hUF_bg2uc-ns"
      },
      "outputs": [],
      "source": [
        ""
      ]
    }
  ]
}