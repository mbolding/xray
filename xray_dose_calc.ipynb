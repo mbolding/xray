{
  "nbformat": 4,
  "nbformat_minor": 0,
  "metadata": {
    "colab": {
      "name": "xray_dose_calc.ipynb",
      "provenance": [],
      "authorship_tag": "ABX9TyOt/uDAVWk2NBR/+IHRPHR4",
      "include_colab_link": true
    },
    "kernelspec": {
      "name": "python3",
      "display_name": "Python 3"
    },
    "language_info": {
      "name": "python"
    }
  },
  "cells": [
    {
      "cell_type": "markdown",
      "metadata": {
        "id": "view-in-github",
        "colab_type": "text"
      },
      "source": [
        "<a href=\"https://colab.research.google.com/github/mbolding/xray/blob/main/xray_dose_calc.ipynb\" target=\"_parent\"><img src=\"https://colab.research.google.com/assets/colab-badge.svg\" alt=\"Open In Colab\"/></a>"
      ]
    },
    {
      "cell_type": "markdown",
      "source": [
        " The tube output of the x-ray unit can be calculated from the following equation:"
      ],
      "metadata": {
        "id": "MhQAzHHSddfd"
      }
    },
    {
      "cell_type": "markdown",
      "source": [
        "$X=\\frac{C\\left(V\\right)\\ I}{d^2}$\n"
      ],
      "metadata": {
        "id": "VGXldDtfgFOp"
      }
    },
    {
      "cell_type": "markdown",
      "source": [
        "Where X is the exposure rate in Roentgens/minute, I is the tube current in microamps, d is the distance from the x-ray focal spot, and C has units of R*cm2/µA/min, and is a function of tube voltage V presented in the following table and chart."
      ],
      "metadata": {
        "id": "_eoILpY0gWaH"
      }
    },
    {
      "cell_type": "markdown",
      "source": [
        "| kV | C (R*cm2/µA/min) |\n",
        "|:--|:--|\n",
        "| 20 | 25.6 |\n",
        "| 30 | 38.6 |\n",
        "| 40 | 42.1 |\n",
        "| 50 | 43.8 |\n",
        "\n"
      ],
      "metadata": {
        "id": "hXvvLaWwfPc8"
      }
    },
    {
      "cell_type": "markdown",
      "source": [
        "For 20 kV 40 uA at 2 cm:"
      ],
      "metadata": {
        "id": "a-gvHcUaO2eI"
      }
    },
    {
      "cell_type": "code",
      "execution_count": 24,
      "metadata": {
        "id": "hUF_bg2uc-ns",
        "colab": {
          "base_uri": "https://localhost:8080/",
          "height": 35
        },
        "outputId": "a96f8858-1665-4a4d-95a7-6a302d1bef53"
      },
      "outputs": [
        {
          "output_type": "execute_result",
          "data": {
            "text/plain": [
              "'128.0 R/min'"
            ],
            "application/vnd.google.colaboratory.intrinsic+json": {
              "type": "string"
            }
          },
          "metadata": {},
          "execution_count": 24
        }
      ],
      "source": [
        "C = 25.6 # for 20 kV tube voltge, see table above\n",
        "I = 20 # tube current in uA\n",
        "d = 2  # target distance in cm\n",
        "x = 25.6 * I / d**2\n",
        "f\"{x} R/min\""
      ]
    },
    {
      "cell_type": "markdown",
      "source": [
        "* one roentgen deposits 0.00877 grays (0.877 rads) of absorbed dose in dry air, or 0.0097 Gy (0.97 rad) in soft tissue. [link](https://www.nrc.gov/docs/ML1122/ML11229A688.pdf)\n",
        "* to convert to seconds we divide by 60\n"
      ],
      "metadata": {
        "id": "Mz9Ux8QfOCpS"
      }
    },
    {
      "cell_type": "code",
      "source": [
        "x = x * 0.0097 /60\n",
        "f\"{x:.3} Gy/sec\""
      ],
      "metadata": {
        "colab": {
          "base_uri": "https://localhost:8080/",
          "height": 35
        },
        "id": "q3KtzuSUPmfY",
        "outputId": "d6df96a6-1d2d-47e0-c504-d5122bce7870"
      },
      "execution_count": 25,
      "outputs": [
        {
          "output_type": "execute_result",
          "data": {
            "text/plain": [
              "'0.0207 Gy/sec'"
            ],
            "application/vnd.google.colaboratory.intrinsic+json": {
              "type": "string"
            }
          },
          "metadata": {},
          "execution_count": 25
        }
      ]
    },
    {
      "cell_type": "markdown",
      "source": [
        "Notes: The tube output was measured using a RadCal 9010 x-ray dosimeter with a RadCal10x6 ionization chamber.  Measurements were taken at 20kV and 198µA distances of 7 and 14cm from the presumed focal point of the chamber.  The ratio between the two dose rate measurements was 4.213, implying that the focal spot is approximately 3mm closer to the chamber than presumed.  This calculation assumes that the beam is perfectly uniform; it is likely that the deviation from the inverse-square law is due to non-uniformities in the beam. Tube voltage at 40 and 50kV was measured using a RadCal AccuGold+ non-invasive kV meter in Diagnostic mode; the measured voltages were 40.7kV and 50.5kV, respectively."
      ],
      "metadata": {
        "id": "ngWw688KWnyU"
      }
    }
  ]
}